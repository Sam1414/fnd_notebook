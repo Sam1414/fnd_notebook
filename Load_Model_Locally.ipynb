{
 "cells": [
  {
   "cell_type": "code",
   "execution_count": 1,
   "metadata": {},
   "outputs": [],
   "source": [
    "import tensorflow as tf\n",
    "import tensorflow_hub as hub\n",
    "import pandas as pd\n",
    "import numpy as np"
   ]
  },
  {
   "cell_type": "code",
   "execution_count": 2,
   "metadata": {},
   "outputs": [],
   "source": [
    "module_url = \"https://tfhub.dev/google/universal-sentence-encoder/4\" #@param [\"https://tfhub.dev/google/universal-sentence-encoder/4\", \"https://tfhub.dev/google/universal-sentence-encoder-large/5\"]\n",
    "embed = hub.load(module_url)"
   ]
  },
  {
   "cell_type": "code",
   "execution_count": 3,
   "metadata": {},
   "outputs": [],
   "source": [
    "# embed = tf.saved_model.load('embed')"
   ]
  },
  {
   "cell_type": "code",
   "execution_count": 4,
   "metadata": {},
   "outputs": [
    {
     "data": {
      "text/plain": [
       "<tensorflow.python.saved_model.load.Loader._recreate_base_user_object.<locals>._UserObject at 0x1c5a5432940>"
      ]
     },
     "execution_count": 4,
     "metadata": {},
     "output_type": "execute_result"
    }
   ],
   "source": [
    "embed"
   ]
  },
  {
   "cell_type": "code",
   "execution_count": 5,
   "metadata": {
    "collapsed": true
   },
   "outputs": [
    {
     "data": {
      "text/plain": [
       "<tf.Tensor: shape=(1, 512), dtype=float32, numpy=\n",
       "array([[ 5.06537668e-02,  6.89419685e-03,  3.10490131e-02,\n",
       "        -2.34426893e-02, -1.76232699e-02, -3.86518948e-02,\n",
       "        -1.59729458e-02, -2.87181232e-03,  2.44737212e-02,\n",
       "         6.50344416e-03,  2.86781415e-02,  5.03714308e-02,\n",
       "        -8.89344662e-02,  7.95358494e-02, -5.39800264e-02,\n",
       "        -2.99837962e-02,  1.23190265e-02,  3.16822827e-02,\n",
       "        -1.13119120e-02, -9.22781229e-02, -7.93654844e-03,\n",
       "         6.63103238e-02, -1.30027970e-02,  3.67623977e-02,\n",
       "        -7.49693140e-02,  5.48161902e-02,  3.63411009e-02,\n",
       "         2.41148751e-02,  4.06515934e-02, -2.10768916e-02,\n",
       "        -4.13329937e-02, -5.61750028e-03,  3.05836219e-02,\n",
       "        -4.46937699e-03, -4.67080772e-02,  7.07993954e-02,\n",
       "         2.32782234e-02, -4.18055020e-02, -6.91551790e-02,\n",
       "         7.09726363e-02, -3.77384131e-03, -3.47874351e-02,\n",
       "         1.78640671e-02,  7.12387264e-02, -4.53207493e-02,\n",
       "         5.43508632e-03, -1.89015071e-03,  6.34287968e-02,\n",
       "        -3.77121381e-02,  1.44027220e-02,  4.61379848e-02,\n",
       "        -9.55954194e-02,  3.94411711e-03, -6.44342899e-02,\n",
       "         4.08264529e-03,  6.60966150e-03,  2.59803161e-02,\n",
       "        -6.29613101e-02,  5.81481345e-02, -3.32550406e-02,\n",
       "         9.25159380e-02,  1.28410570e-02, -8.88152570e-02,\n",
       "        -5.22790924e-02, -1.26319844e-02,  1.73542090e-02,\n",
       "        -6.31214902e-02,  5.44865383e-03,  4.83068153e-02,\n",
       "        -9.59858298e-03, -1.54103572e-02,  1.13372048e-02,\n",
       "         2.70638578e-02, -3.35531346e-02,  1.44263953e-02,\n",
       "        -1.23124402e-02, -1.28986593e-02, -3.85406166e-02,\n",
       "        -5.18519357e-02, -8.32220167e-02, -4.59312275e-02,\n",
       "        -4.09297980e-02,  6.19245023e-02,  2.18296400e-03,\n",
       "         1.84083022e-02, -2.00413149e-02,  6.20176084e-02,\n",
       "         1.30338164e-03, -2.81926654e-02, -4.09829691e-02,\n",
       "        -1.08741298e-02,  6.28330931e-02, -6.66006207e-02,\n",
       "        -1.46932248e-02, -8.72609392e-02,  7.21616149e-02,\n",
       "         4.33018878e-02,  1.99584365e-02,  2.26283399e-03,\n",
       "         3.96105684e-02,  5.27555458e-02,  5.43940291e-02,\n",
       "         2.27594804e-02, -5.95255420e-02,  5.45863956e-02,\n",
       "         2.58559696e-02, -1.46989133e-02, -8.32050666e-03,\n",
       "        -8.29074383e-02, -4.82711243e-03,  2.29557995e-02,\n",
       "         2.35296935e-02, -4.59614880e-02,  1.06672421e-02,\n",
       "        -2.63381563e-02,  3.27954777e-02, -6.25054985e-02,\n",
       "         5.06836884e-02, -8.03903639e-02, -7.02995667e-03,\n",
       "         4.47710007e-02, -1.54994009e-02,  2.24501975e-02,\n",
       "         2.15607081e-02,  2.54701432e-02, -4.97529879e-02,\n",
       "        -1.83369331e-02, -4.24703620e-02, -5.81634305e-02,\n",
       "         3.03757284e-02,  7.67079890e-02,  6.27804995e-02,\n",
       "         2.70844959e-02,  4.14919481e-02,  2.11364366e-02,\n",
       "        -4.11541648e-02,  1.28935175e-02,  2.83387862e-02,\n",
       "        -3.34929265e-02,  5.95904477e-02,  2.22650822e-02,\n",
       "         4.67928611e-02,  5.76162040e-02,  2.16389932e-02,\n",
       "        -7.60257915e-02, -3.37285250e-02,  2.05042679e-02,\n",
       "         3.49043868e-02, -4.96838875e-02,  5.20344339e-02,\n",
       "        -5.97928688e-02,  6.27378374e-02, -3.27976346e-02,\n",
       "        -5.64535744e-02,  3.49554382e-02, -4.15708758e-02,\n",
       "        -7.25277737e-02, -7.55507126e-02,  1.63699612e-02,\n",
       "         6.79003000e-02, -1.77073088e-02, -5.92243811e-03,\n",
       "         3.13560143e-02,  2.87613459e-02,  3.14890668e-02,\n",
       "         1.39062572e-02, -3.32701169e-02, -3.48610766e-02,\n",
       "        -4.32989337e-02, -6.25121221e-02,  3.16549204e-02,\n",
       "         3.20820063e-02,  1.86857264e-02,  4.22279947e-02,\n",
       "        -5.78974523e-02, -2.86320206e-02, -1.66129954e-02,\n",
       "        -4.15767469e-02, -2.20299549e-02,  3.73331606e-02,\n",
       "        -4.20549549e-02, -1.94147583e-02,  4.79730889e-02,\n",
       "         2.35699434e-02,  1.52332103e-02,  1.78466979e-02,\n",
       "        -7.27294013e-02,  2.57178815e-03,  5.74813746e-02,\n",
       "         7.02030808e-02,  3.82600306e-03, -3.44400145e-02,\n",
       "         3.76859307e-02, -3.52490619e-02,  5.41638806e-02,\n",
       "         4.93536778e-02,  2.41377391e-02, -1.97603293e-02,\n",
       "         1.98640116e-03, -1.52742816e-02,  7.39827706e-03,\n",
       "        -5.89563958e-02, -1.86857500e-03, -4.57039326e-02,\n",
       "        -4.28961888e-02, -2.70122848e-02, -1.03325667e-02,\n",
       "         1.44917415e-02, -3.28719430e-02, -7.19571672e-03,\n",
       "         3.10463435e-03,  1.27272885e-02, -1.34501895e-02,\n",
       "         2.15192568e-02,  5.27658779e-03,  4.15189527e-02,\n",
       "        -8.94965418e-03, -3.58746834e-02, -7.56974220e-02,\n",
       "        -3.54287773e-02, -4.00934890e-02,  1.03506213e-02,\n",
       "         1.21964887e-02, -2.91712284e-02,  2.47558057e-02,\n",
       "        -5.05654179e-02, -1.63767375e-02, -1.92116965e-02,\n",
       "         2.79292651e-02, -1.00577455e-02,  3.99932042e-02,\n",
       "         2.81678513e-02, -3.89842167e-02,  9.33056027e-02,\n",
       "        -4.04055156e-02,  1.78384222e-02,  3.93226407e-02,\n",
       "         8.61384999e-03, -5.84446043e-02,  6.41817003e-02,\n",
       "        -1.47122880e-02, -3.25598493e-02, -1.46250185e-02,\n",
       "        -4.38612290e-02,  1.51690664e-02, -3.69991884e-02,\n",
       "         3.62112932e-02,  4.12008353e-02,  5.05499355e-03,\n",
       "        -2.92348210e-02,  1.95992049e-02, -4.84682657e-02,\n",
       "         2.23115776e-02,  6.27092272e-02, -4.79269139e-02,\n",
       "        -3.07799000e-02,  8.71134400e-02,  7.00385123e-02,\n",
       "        -1.19893122e-02,  4.06559557e-02, -1.60667226e-02,\n",
       "         1.00260908e-02, -8.75230804e-02,  2.74122525e-02,\n",
       "        -1.32542681e-02,  1.55755011e-02,  3.75622138e-02,\n",
       "        -5.59968464e-02, -4.22327556e-02, -5.40473424e-02,\n",
       "         1.59931667e-02,  9.14379135e-02, -2.88008470e-02,\n",
       "        -4.05275933e-02, -4.38859165e-02, -4.00528200e-02,\n",
       "         4.92443703e-02,  5.62577024e-02, -2.74425745e-03,\n",
       "         5.68468170e-03, -2.70279739e-02,  1.07789328e-02,\n",
       "         2.68771574e-02,  4.57029976e-02, -1.75541230e-02,\n",
       "        -7.05215856e-02, -3.15962615e-03,  7.74538442e-02,\n",
       "         2.62288544e-02,  1.73723847e-02,  5.94131611e-02,\n",
       "         8.34232196e-02,  3.29061858e-02,  2.91897561e-02,\n",
       "         7.97563642e-02,  6.29648194e-02, -4.51347418e-02,\n",
       "         7.70513490e-02, -3.99877466e-02, -3.89023013e-02,\n",
       "         6.97901174e-02, -7.01950267e-02, -1.04783513e-02,\n",
       "         6.00435585e-02, -3.08550335e-02,  2.81574633e-02,\n",
       "         5.63241690e-02,  6.83478490e-02,  5.41272853e-03,\n",
       "         3.66899371e-02,  1.26587981e-02,  4.11947966e-02,\n",
       "        -1.02593587e-03,  4.42274921e-02, -7.01718312e-03,\n",
       "         6.39040172e-02, -6.31158203e-02, -3.54491621e-02,\n",
       "        -3.43422815e-02, -7.59878755e-02, -2.14378871e-02,\n",
       "        -3.00336964e-02,  3.03496886e-02,  8.62879585e-03,\n",
       "         6.41575605e-02, -4.64966707e-02, -6.90262485e-03,\n",
       "         2.62501184e-04,  5.29223308e-02, -7.69201815e-02,\n",
       "         6.86176866e-02, -3.13524306e-02, -4.85033020e-02,\n",
       "        -5.39681735e-03, -3.67718823e-02,  2.21487391e-03,\n",
       "         4.53120470e-02, -5.96966669e-02,  5.91322891e-02,\n",
       "         1.68793537e-02, -2.66437307e-02,  7.63979852e-02,\n",
       "         7.23886043e-02,  6.97788689e-03,  4.37806807e-02,\n",
       "        -2.96626724e-02,  1.28126498e-02, -7.13977441e-02,\n",
       "         1.91140287e-02, -6.97898567e-02,  7.95712024e-02,\n",
       "        -3.66758816e-02, -3.31886113e-02,  3.59351113e-02,\n",
       "         1.46522010e-02, -7.04804733e-02, -9.81930643e-02,\n",
       "         9.01653320e-02,  3.48732844e-02, -5.47203124e-02,\n",
       "        -6.52785376e-02,  2.97962278e-02,  1.00952953e-01,\n",
       "         1.62562623e-03, -3.69058624e-02,  7.29109859e-03,\n",
       "        -6.70170337e-02, -3.49812917e-02, -2.04272810e-02,\n",
       "        -5.34869656e-02,  2.71183085e-02,  5.89632802e-02,\n",
       "        -2.14362498e-02,  1.18102077e-02,  2.69849245e-02,\n",
       "         7.05563575e-02, -3.60740013e-02,  7.29557499e-02,\n",
       "        -8.04294422e-02, -6.66414872e-02, -7.05646276e-02,\n",
       "        -4.81534712e-02, -1.16329687e-02,  4.11625206e-02,\n",
       "        -7.02422559e-02, -4.59731892e-02, -6.87490478e-02,\n",
       "        -7.48803392e-02,  4.83945124e-02,  8.95637572e-02,\n",
       "         4.80894698e-03, -3.29520628e-02, -6.14123186e-03,\n",
       "         3.89655940e-02,  5.77893555e-02, -8.67762044e-02,\n",
       "        -3.05521041e-02,  1.67219192e-02,  6.98805088e-03,\n",
       "        -3.09056453e-02, -1.92512386e-02, -7.21724005e-03,\n",
       "         8.62168372e-02,  7.64531791e-02,  4.00281735e-02,\n",
       "         8.69639516e-02,  1.03061587e-01, -5.98153993e-02,\n",
       "        -1.47944419e-02,  1.31544201e-02,  1.37868537e-05,\n",
       "         8.43705703e-03,  7.51158521e-02,  1.27664674e-02,\n",
       "         1.00949183e-02, -1.31036909e-02, -2.19633654e-02,\n",
       "         6.58704266e-02, -3.71965840e-02,  5.73089793e-02,\n",
       "        -3.58143933e-02,  2.10169144e-02,  3.35256755e-02,\n",
       "        -2.06154939e-02,  5.09370258e-03,  2.06806492e-02,\n",
       "         4.87619154e-02,  1.65201649e-02, -6.55090287e-02,\n",
       "         8.35321005e-03,  4.74944375e-02, -4.48853001e-02,\n",
       "         2.06812117e-02, -9.17274877e-03, -6.94367243e-03,\n",
       "        -5.85020073e-02, -1.36246113e-02,  4.48900796e-02,\n",
       "         3.72469798e-02, -5.06610945e-02,  5.38467057e-03,\n",
       "        -5.10137975e-02,  5.84047697e-02,  2.09256895e-02,\n",
       "        -8.54104161e-02,  2.24719439e-02, -1.99647918e-02,\n",
       "         5.14582023e-02,  4.57624570e-02,  7.86774326e-03,\n",
       "        -5.18948771e-03, -9.64330230e-03, -1.34624857e-02,\n",
       "        -4.42308076e-02,  3.80703714e-03,  3.45316622e-03,\n",
       "        -2.48514991e-02, -8.55251253e-02,  3.24203745e-02,\n",
       "         5.01992144e-02, -1.19607500e-03, -5.79799674e-02,\n",
       "        -3.75132412e-02, -1.38059175e-02,  3.44975740e-02,\n",
       "        -2.77996249e-02,  5.49893416e-02, -2.30515056e-04,\n",
       "        -4.61390465e-02,  3.62217240e-02, -6.81800991e-02,\n",
       "         1.30654816e-02,  6.66212291e-02, -8.99756420e-03,\n",
       "         7.16824457e-03, -7.10066706e-02, -2.65925899e-02,\n",
       "         5.22670448e-02,  9.81327817e-02,  7.55892694e-02,\n",
       "         4.65796329e-02,  1.01589998e-02, -1.98503165e-03,\n",
       "         6.41450798e-03, -2.70144199e-03,  6.27918839e-02,\n",
       "        -1.43418405e-02, -3.12989987e-02,  1.96828749e-02,\n",
       "        -7.42484108e-02,  7.31371194e-02, -1.43212965e-02,\n",
       "         1.74996201e-02,  1.34047298e-02,  4.69393469e-02,\n",
       "         7.03099277e-03, -5.84972650e-03, -4.54815589e-02,\n",
       "        -4.46827076e-02, -1.25991981e-02,  4.36833650e-02,\n",
       "        -1.09512890e-02, -5.97686619e-02,  9.38926917e-03,\n",
       "        -1.27884280e-02,  4.99851145e-02,  1.03092631e-02,\n",
       "        -4.25528474e-02,  1.31870387e-02,  5.34171332e-03,\n",
       "         9.31402072e-02,  1.15409847e-02]], dtype=float32)>"
      ]
     },
     "execution_count": 5,
     "metadata": {},
     "output_type": "execute_result"
    }
   ],
   "source": [
    "embed(['you should know that sam is great'])"
   ]
  },
  {
   "cell_type": "code",
   "execution_count": 24,
   "metadata": {},
   "outputs": [],
   "source": [
    "import nltk\n",
    "from nltk.stem import PorterStemmer\n",
    "def preprocess(text):\n",
    "    lst_stop_words = [\"a\", \"about\", \"above\", \"after\", \"again\", \"against\", \"all\", \"am\", \"an\", \"and\", \"any\", \"are\", \"as\", \"at\", \"be\", \"because\", \"been\", \"before\", \"being\", \"below\", \"between\", \"both\", \"but\", \"by\", \"could\", \"did\", \"do\", \"does\", \"doing\", \"down\", \"during\", \"each\", \"few\", \"for\", \"from\", \"further\", \"had\", \"has\", \"have\", \"having\", \"he\", \"he'd\", \"he'll\", \"he's\", \"her\", \"here\", \"here's\", \"hers\", \"herself\", \"him\", \"himself\", \"his\", \"how\", \"how's\", \"i\", \"i'd\", \"i'll\", \"i'm\", \"i've\", \"if\", \"in\", \"into\", \"is\", \"it\", \"it's\", \"its\", \"itself\", \"let's\", \"me\", \"more\", \"most\", \"my\", \"myself\", \"nor\", \"of\", \"on\", \"once\", \"only\", \"or\", \"other\",\n",
    "                      \"ought\", \"our\", \"ours\", \"ourselves\", \"out\", \"over\", \"own\", \"same\", \"she\", \"she'd\", \"she'll\", \"she's\", \"should\", \"so\", \"some\", \"such\", \"than\", \"that\", \"that's\", \"the\", \"their\", \"theirs\", \"them\", \"themselves\", \"then\", \"there\", \"there's\", \"these\", \"they\", \"they'd\", \"they'll\", \"they're\", \"they've\", \"this\", \"those\", \"through\", \"to\", \"too\", \"under\", \"until\", \"up\", \"very\", \"was\", \"we\", \"we'd\", \"we'll\", \"we're\", \"we've\", \"were\", \"what\", \"what's\", \"when\", \"when's\", \"where\", \"where's\", \"which\", \"while\", \"who\", \"who's\", \"whom\", \"why\", \"why's\", \"with\", \"would\", \"you\", \"you'd\", \"you'll\", \"you're\", \"you've\", \"your\", \"yours\", \"yourself\", \"yourselves\"]\n",
    "    punctuations = '''!()-[\\’\\“\\”]{—};:'\"\\,<>./?@#$%^&*_~'''\n",
    "    ps = PorterStemmer()\n",
    "    word_lst = text.lower().split()\n",
    "    new_word_lst = []\n",
    "    for word in word_lst:\n",
    "        mod_word = ''.join([char for char in word if char not in punctuations])\n",
    "        mod_word = ps.stem(mod_word)\n",
    "        new_word_lst.append(mod_word)\n",
    "        if mod_word in lst_stop_words:\n",
    "            new_word_lst.remove(mod_word)\n",
    "    mod_text = ' '.join(new_word_lst)\n",
    "\n",
    "    return mod_text\n"
   ]
  },
  {
   "cell_type": "code",
   "execution_count": 25,
   "metadata": {},
   "outputs": [
    {
     "data": {
      "text/plain": [
       "(<1x1025 sparse matrix of type '<class 'numpy.float64'>'\n",
       " \twith 1025 stored elements in Compressed Sparse Row format>,\n",
       " array([[nan, nan, nan, ..., nan, nan, nan]]))"
      ]
     },
     "execution_count": 25,
     "metadata": {},
     "output_type": "execute_result"
    }
   ],
   "source": [
    "import numpy as np\n",
    "from scipy.sparse import csr_matrix, hstack, vstack\n",
    "global feat_vec, feat_svec\n",
    "feat_vec = np.empty((1025))\n",
    "feat_vec[:] = np.nan\n",
    "feat_svec = csr_matrix(feat_vec)\n",
    "feat_svec, feat_svec.toarray()"
   ]
  },
  {
   "cell_type": "code",
   "execution_count": 26,
   "metadata": {},
   "outputs": [],
   "source": [
    "def get_feature_vector(user_data, admin_data):\n",
    "    user_emb = embed([user_data])\n",
    "    admin_emb = embed([admin_data])\n",
    "    sim = np.inner(user_emb, admin_emb)\n",
    "    global feat_svec\n",
    "    feat_svec = vstack((feat_svec, hstack((admin_emb[0], sim[0], user_emb[0]))))\n",
    "    feat_svec = feat_svec.tocsr()\n",
    "    feat_svec = feat_svec[1:]\n",
    "    feat_vec = feat_svec.toarray()\n",
    "    print(feat_vec.shape)\n",
    "    print('Vector:', feat_vec)\n",
    "    print('similarity:', sim[0])\n",
    "    return feat_vec, sim[0][0]"
   ]
  },
  {
   "cell_type": "code",
   "execution_count": 27,
   "metadata": {},
   "outputs": [],
   "source": [
    "from tensorflow import keras\n",
    "def predict(feature_vec):\n",
    "    model_1_keras = keras.models.load_model('model_1.keras')\n",
    "    meaning = {0: 'Agree', 1: 'Disagree', 2: 'Discuss', 3: 'Unrelated'}\n",
    "    label = np.argmax(model_1_keras.predict(features), axis = -1)\n",
    "    print(label[0])\n",
    "    result = meaning[label[0]]\n",
    "    print('Result:', result)\n",
    "    return result"
   ]
  },
  {
   "cell_type": "code",
   "execution_count": 49,
   "metadata": {},
   "outputs": [],
   "source": [
    "from GoogleNews import GoogleNews\n",
    "from newspaper import Article\n",
    "def get_admin_data(user_data):\n",
    "    googlenews = GoogleNews(lang='en')\n",
    "    googlenews.search(user_data)\n",
    "    links = googlenews.get__links()\n",
    "    print(len(links))\n",
    "    if len(links) == 0:\n",
    "        return '', '', ''\n",
    "    elif len(links) == 1:\n",
    "        link_used = links[0]\n",
    "    else:\n",
    "        link_used = links[1]\n",
    "    \n",
    "    article = Article(link_used)\n",
    "    print(link_used)\n",
    "    article.download()\n",
    "    article.parse()\n",
    "    article.nlp()\n",
    "#     admin_data = article.text\n",
    "    admin_data = article.summary\n",
    "    print(admin_data)\n",
    "    \n",
    "    img_link = article.top_image\n",
    "    \n",
    "    return admin_data, link_used, img_link"
   ]
  },
  {
   "cell_type": "code",
   "execution_count": 29,
   "metadata": {},
   "outputs": [],
   "source": [
    "# print(get_admin_data('covid 19'))"
   ]
  },
  {
   "cell_type": "code",
   "execution_count": 50,
   "metadata": {},
   "outputs": [
    {
     "data": {
      "text/plain": [
       "True"
      ]
     },
     "execution_count": 50,
     "metadata": {},
     "output_type": "execute_result"
    }
   ],
   "source": [
    "import os\n",
    "path = 'C:/Users/LEGION/Documents/fake_news_detection_app/'\n",
    "# To check if file is empty or not, True if empty, False if not empty\n",
    "os.stat(path + 'Input.json').st_size == 0"
   ]
  },
  {
   "cell_type": "code",
   "execution_count": null,
   "metadata": {
    "scrolled": true
   },
   "outputs": [
    {
     "name": "stdout",
     "output_type": "stream",
     "text": [
      "{'heading': 'Days after Gangster Vikas Dubey Killed in Police Encounter, His Father Dies after Heart Attack', 'content': \"he father of gangster Vikas Dubey, who was shot dead in an encounter with the Uttar Pradesh Police last week, died after a heart attack on Monday.  Ram Kumar Dubey died in his daughter's home in Shivli in Kanpur rural. He was reportedly in deep shock after his son's death and had stopped having water and food.  On July 3, eight police personnel, including a DSP, were gunned down in Bikru village by the henchmen of Vikas Dubey. Seven others, including a civilian, were injured in the attack from a rooftop after the police team entered the village past July 2 midnight to arrest the gangster.  Vikas Dubey was killed in an encounter on July 10 after police claimed that he tried to escape from the spot in Bhauti area where the vehicle carrying him from Ujjain to Kanpur met with an accident.\"}\n",
      "10\n",
      "https://www.news18.com/news/india/days-after-gangster-vikas-dubey-killed-in-police-encounter-his-father-dies-in-kanpur-2714413.html\n",
      "An Uttar Pradesh official on Monday night refuted claims that the father of gangster Vikas Dubey, who was shot dead in an encounter with the Uttar Pradesh Police last week, died of a heart attack.\n",
      "Bilhaur CO Santosh Singh said such reports being circulated on WhatsApp were false.\n",
      "On July 3, eight police personnel, including a DSP, were gunned down in Bikru village by the henchmen of Vikas Dubey.\n",
      "Seven others, including a civilian, were injured in the attack from a rooftop after the police team entered the village past July 2 midnight to arrest the gangster.\n",
      "Vikas Dubey was killed in an encounter on July 10 after police claimed that he tried to escape from the spot in Bhauti area where the vehicle carrying him from Ujjain to Kanpur met with an accident.\n",
      "(1, 1025)\n",
      "Vector: [[-0.05100984 -0.01998749 -0.06312779 ...  0.00673313 -0.02193567\n",
      "  -0.0707101 ]]\n",
      "similarity: [0.87279665]\n",
      "2\n",
      "Result: Discuss\n"
     ]
    }
   ],
   "source": [
    "import os\n",
    "import json\n",
    "import time\n",
    "path = 'C:/Users/LEGION/Documents/fake_news_detection_app/'\n",
    "global features\n",
    "while(True):\n",
    "    no_inp = os.stat(path + 'Input.json').st_size == 0\n",
    "    if no_inp == True:\n",
    "        pass\n",
    "    else:\n",
    "        # Get user input from input.json file\n",
    "        i = open(path + 'Input.json', 'r+')\n",
    "        inp_data = json.load(i)\n",
    "        print(inp_data)\n",
    "        i.truncate(0)\n",
    "        i.close()\n",
    "        \n",
    "        # Preprocessing user data\n",
    "        inp_data['content'] = preprocess(inp_data['content'])\n",
    "        \n",
    "        # Getting our own data\n",
    "        admin_data, link, img_link = get_admin_data(inp_data['heading'])\n",
    "        if(link == ''):\n",
    "            r = {'result': 'Possibly_Fake', 'similarity': 0, 'admin_link': link, 'admin_data': admin_data, 'image_url': img_link}\n",
    "            json_data = json.dumps(r)\n",
    "            f = open(path + 'Output.json', 'w')\n",
    "            f.write(json_data)\n",
    "            f.close()\n",
    "            continue\n",
    "        \n",
    "        # Preprocessing our data\n",
    "        admin_data = preprocess(admin_data)\n",
    "        \n",
    "        # Getting Feature Vector\n",
    "        features, sim = get_feature_vector(inp_data['content'], admin_data)\n",
    "        \n",
    "        # Prediction on Feature Vector\n",
    "        result = predict(features)\n",
    "        r = {'result': result, 'similarity': sim * 100, 'admin_link': link, 'admin_data': admin_data, 'image_url': img_link}\n",
    "        \n",
    "        # Writing result in Output.json file\n",
    "        json_data = json.dumps(r)\n",
    "        f = open(path + 'Output.json', 'w')\n",
    "        f.write(json_data)\n",
    "        f.close()\n",
    "        # time.sleep(1)"
   ]
  },
  {
   "cell_type": "code",
   "execution_count": null,
   "metadata": {},
   "outputs": [],
   "source": []
  },
  {
   "cell_type": "code",
   "execution_count": null,
   "metadata": {},
   "outputs": [],
   "source": []
  },
  {
   "cell_type": "code",
   "execution_count": null,
   "metadata": {},
   "outputs": [],
   "source": []
  },
  {
   "cell_type": "code",
   "execution_count": null,
   "metadata": {},
   "outputs": [],
   "source": []
  },
  {
   "cell_type": "code",
   "execution_count": null,
   "metadata": {},
   "outputs": [],
   "source": []
  },
  {
   "cell_type": "code",
   "execution_count": null,
   "metadata": {},
   "outputs": [],
   "source": [
    "import os\n",
    "import json\n",
    "import time\n",
    "path = 'C:/Users/LEGION/Documents/fake_news_detection_app/'\n",
    "global features\n",
    "while(True):\n",
    "    no_inp = os.stat(path + 'Input.json').st_size == 0\n",
    "    if no_inp == True:\n",
    "        pass\n",
    "    else:\n",
    "        # Get user input from input.json file\n",
    "        i = open(path + 'Input.json', 'r+')\n",
    "        inp_data = json.load(i)\n",
    "        print(inp_data)\n",
    "        i.truncate(0)\n",
    "        i.close()\n",
    "        \n",
    "        # Preprocessing user data\n",
    "        inp_data['content'] = preprocess(inp_data['content'])\n",
    "        \n",
    "        # Getting our own data\n",
    "        admin_data, link, img_link = get_admin_data(inp_data['heading'])\n",
    "        if(link == ''):\n",
    "            r = {'result': 'Possibly_Fake', 'similarity': 0, 'admin_link': link, 'admin_data': admin_data, 'image_url': img_link}\n",
    "            json_data = json.dumps(r)\n",
    "            f = open(path + 'Output.json', 'w')\n",
    "            f.write(json_data)\n",
    "            f.close()\n",
    "            continue\n",
    "        \n",
    "        # Preprocessing our data\n",
    "        admin_data = preprocess(admin_data)\n",
    "        \n",
    "        # Getting Feature Vector\n",
    "        features, sim = get_feature_vector(inp_data['content'], admin_data)\n",
    "        \n",
    "        # Prediction on Feature Vector\n",
    "        result = predict(features)\n",
    "        r = {'result': result, 'similarity': sim * 100, 'admin_link': link, 'admin_data': admin_data, 'image_url': img_link}\n",
    "        \n",
    "        # Writing result in Output.json file\n",
    "        json_data = json.dumps(r)\n",
    "        f = open(path + 'Output.json', 'w')\n",
    "        f.write(json_data)\n",
    "        f.close()\n",
    "        # time.sleep(1)"
   ]
  },
  {
   "cell_type": "code",
   "execution_count": 50,
   "metadata": {},
   "outputs": [
    {
     "data": {
      "text/plain": [
       "True"
      ]
     },
     "execution_count": 50,
     "metadata": {},
     "output_type": "execute_result"
    }
   ],
   "source": [
    "os.stat(path + 'Input.json').st_size == 0"
   ]
  },
  {
   "cell_type": "code",
   "execution_count": 46,
   "metadata": {},
   "outputs": [
    {
     "data": {
      "text/plain": [
       "array([[ 0.05065377,  0.0068942 ,  0.03104902, ..., -0.0335449 ,\n",
       "         0.04959124,  0.00572576]])"
      ]
     },
     "execution_count": 46,
     "metadata": {},
     "output_type": "execute_result"
    }
   ],
   "source": [
    "features"
   ]
  },
  {
   "cell_type": "code",
   "execution_count": 68,
   "metadata": {},
   "outputs": [
    {
     "name": "stdout",
     "output_type": "stream",
     "text": [
      "Model: \"sequential_1\"\n",
      "_________________________________________________________________\n",
      "Layer (type)                 Output Shape              Param #   \n",
      "=================================================================\n",
      "dense_2 (Dense)              (None, 100)               102600    \n",
      "_________________________________________________________________\n",
      "dropout_1 (Dropout)          (None, 100)               0         \n",
      "_________________________________________________________________\n",
      "dense_3 (Dense)              (None, 4)                 404       \n",
      "=================================================================\n",
      "Total params: 103,004\n",
      "Trainable params: 103,004\n",
      "Non-trainable params: 0\n",
      "_________________________________________________________________\n"
     ]
    }
   ],
   "source": [
    "from tensorflow import keras\n",
    "model_1_keras = keras.models.load_model('model_1.keras')\n",
    "model_1_keras.summary()"
   ]
  },
  {
   "cell_type": "code",
   "execution_count": 72,
   "metadata": {},
   "outputs": [
    {
     "data": {
      "text/plain": [
       "array([0], dtype=int64)"
      ]
     },
     "execution_count": 72,
     "metadata": {},
     "output_type": "execute_result"
    }
   ],
   "source": [
    "# model_1_keras.predict(features)\n",
    "res = np.argmax(model_1_keras.predict(features), axis = -1)\n",
    "res"
   ]
  },
  {
   "cell_type": "code",
   "execution_count": 74,
   "metadata": {},
   "outputs": [],
   "source": []
  },
  {
   "cell_type": "code",
   "execution_count": null,
   "metadata": {},
   "outputs": [],
   "source": []
  }
 ],
 "metadata": {
  "kernelspec": {
   "display_name": "Python 3",
   "language": "python",
   "name": "python3"
  },
  "language_info": {
   "codemirror_mode": {
    "name": "ipython",
    "version": 3
   },
   "file_extension": ".py",
   "mimetype": "text/x-python",
   "name": "python",
   "nbconvert_exporter": "python",
   "pygments_lexer": "ipython3",
   "version": "3.8.2"
  }
 },
 "nbformat": 4,
 "nbformat_minor": 4
}
